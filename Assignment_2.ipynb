{
  "nbformat": 4,
  "nbformat_minor": 0,
  "metadata": {
    "colab": {
      "name": "Assignment 2.ipynb",
      "provenance": [],
      "authorship_tag": "ABX9TyM/uW/GXfRK9huM05kijaXV",
      "include_colab_link": true
    },
    "kernelspec": {
      "name": "python3",
      "display_name": "Python 3"
    },
    "language_info": {
      "name": "python"
    }
  },
  "cells": [
    {
      "cell_type": "markdown",
      "metadata": {
        "id": "view-in-github",
        "colab_type": "text"
      },
      "source": [
        "<a href=\"https://colab.research.google.com/github/Alxzndrn/Assignment-2/blob/main/Assignment_2.ipynb\" target=\"_parent\"><img src=\"https://colab.research.google.com/assets/colab-badge.svg\" alt=\"Open In Colab\"/></a>"
      ]
    },
    {
      "cell_type": "markdown",
      "metadata": {
        "id": "ilH0iLY655MK"
      },
      "source": [
        "# Welcome to Python Fundamentals\n",
        "in this module, we are going to establish our skills in Python programming. In this notebook we are going to cover:\n",
        "\n",
        "\n",
        "*   Variables and Data Types\n",
        "*   Operations\n",
        "*   Input and Output\n",
        "*   Logic COntrol\n",
        "*   Iterables\n",
        "*   Functions\n",
        "\n"
      ]
    },
    {
      "cell_type": "markdown",
      "metadata": {
        "id": "Cgha7XLWrbxO"
      },
      "source": [
        "## Variables and Data Types"
      ]
    },
    {
      "cell_type": "code",
      "metadata": {
        "id": "e3gDzzLJ54Nn"
      },
      "source": [
        "x = 1\n",
        "a, b = 3, -2 \n"
      ],
      "execution_count": null,
      "outputs": []
    },
    {
      "cell_type": "code",
      "metadata": {
        "id": "nndwc9DQs257"
      },
      "source": [
        "type(x)"
      ],
      "execution_count": null,
      "outputs": []
    },
    {
      "cell_type": "code",
      "metadata": {
        "id": "cIkuSmXus_CP"
      },
      "source": [
        "y = 5.0\n",
        "type(y)"
      ],
      "execution_count": null,
      "outputs": []
    },
    {
      "cell_type": "code",
      "metadata": {
        "id": "I0alWJ7utUAA"
      },
      "source": [
        "x = float(x)\n",
        "type (x)"
      ],
      "execution_count": null,
      "outputs": []
    },
    {
      "cell_type": "code",
      "metadata": {
        "id": "HmyV4gLGtkOS"
      },
      "source": [
        "s, t, u = \"1\", '3', 'three'\n",
        "type(u)"
      ],
      "execution_count": null,
      "outputs": []
    },
    {
      "cell_type": "markdown",
      "metadata": {
        "id": "w4AYSug4yt-S"
      },
      "source": [
        "## Operations"
      ]
    },
    {
      "cell_type": "markdown",
      "metadata": {
        "id": "RMBTPrIuyyie"
      },
      "source": [
        "### Arithmetic "
      ]
    },
    {
      "cell_type": "code",
      "metadata": {
        "id": "zp445dOQy5BG"
      },
      "source": [
        "w, x, y, z = 4.0, -3.0, 1, -32"
      ],
      "execution_count": null,
      "outputs": []
    },
    {
      "cell_type": "code",
      "metadata": {
        "id": "yZ_GwWN20KH-"
      },
      "source": [
        "### Addition\n",
        "S = w + x"
      ],
      "execution_count": null,
      "outputs": []
    },
    {
      "cell_type": "code",
      "metadata": {
        "id": "okb7SKzU0-hY"
      },
      "source": [
        "### Subtraction\n",
        "D = y - z"
      ],
      "execution_count": null,
      "outputs": []
    },
    {
      "cell_type": "code",
      "metadata": {
        "id": "s13cUhiz1IP0"
      },
      "source": [
        "### Multiplication\n",
        "P = w*z"
      ],
      "execution_count": null,
      "outputs": []
    },
    {
      "cell_type": "code",
      "metadata": {
        "id": "9rENNPgR1hVl"
      },
      "source": [
        "### Division\n",
        "Q = y/x"
      ],
      "execution_count": null,
      "outputs": []
    },
    {
      "cell_type": "code",
      "metadata": {
        "id": "rcnO9Bkw2kze"
      },
      "source": [
        " ### Floor Division  \n",
        " Qf = w//z\n",
        " Qf"
      ],
      "execution_count": null,
      "outputs": []
    },
    {
      "cell_type": "code",
      "metadata": {
        "id": "mEKKpDRE4h07"
      },
      "source": [
        "### Exponentiation\n",
        "E = w**w\n",
        "E"
      ],
      "execution_count": null,
      "outputs": []
    },
    {
      "cell_type": "code",
      "metadata": {
        "id": "rhTqwS7_42d2"
      },
      "source": [
        "### Modulo\n",
        "mod = z%x"
      ],
      "execution_count": null,
      "outputs": []
    },
    {
      "cell_type": "markdown",
      "metadata": {
        "id": "2TijIF7s5KQu"
      },
      "source": [
        "### Assignment"
      ]
    },
    {
      "cell_type": "code",
      "metadata": {
        "id": "jWTOUePv5RaT"
      },
      "source": [
        "A, B, C, D = 0, 100, 2, 1"
      ],
      "execution_count": null,
      "outputs": []
    },
    {
      "cell_type": "code",
      "metadata": {
        "id": "wxdyZ-2b5xFM"
      },
      "source": [
        "A += w"
      ],
      "execution_count": null,
      "outputs": []
    },
    {
      "cell_type": "code",
      "metadata": {
        "id": "va3YEECe52WC"
      },
      "source": [
        "B -= x"
      ],
      "execution_count": null,
      "outputs": []
    },
    {
      "cell_type": "code",
      "metadata": {
        "id": "kvuwv47G57PH"
      },
      "source": [
        "C *= w"
      ],
      "execution_count": null,
      "outputs": []
    },
    {
      "cell_type": "code",
      "metadata": {
        "id": "WnrbB7y668iP"
      },
      "source": [
        "D /= x"
      ],
      "execution_count": null,
      "outputs": []
    },
    {
      "cell_type": "code",
      "metadata": {
        "id": "bKUitE107iTC"
      },
      "source": [
        "E **= y"
      ],
      "execution_count": null,
      "outputs": []
    },
    {
      "cell_type": "markdown",
      "metadata": {
        "id": "pYsMcfLx760l"
      },
      "source": [
        "### Comparators"
      ]
    },
    {
      "cell_type": "code",
      "metadata": {
        "id": "ufSAkSIZ8Az0"
      },
      "source": [
        "size_1, size_2, size_3 = 1, 2.0, \"1\"\n",
        "true_size = 1.0"
      ],
      "execution_count": null,
      "outputs": []
    },
    {
      "cell_type": "code",
      "metadata": {
        "id": "hPCTHptW8IDU"
      },
      "source": [
        "## Equality\n",
        "size_1 == true_size "
      ],
      "execution_count": null,
      "outputs": []
    },
    {
      "cell_type": "code",
      "metadata": {
        "id": "UK84tOIC8cYJ"
      },
      "source": [
        "## Non-Equality\n",
        "size_2 != true_size"
      ],
      "execution_count": null,
      "outputs": []
    },
    {
      "cell_type": "code",
      "metadata": {
        "id": "8lNUIlgd8oRl"
      },
      "source": [
        "## Inequality\n",
        "s1 = size_1 > size_2\n",
        "s2 = size_1 < size_2/2\n",
        "s3 = true_size >= size_1\n",
        "s4 = size_2 <= true_size"
      ],
      "execution_count": null,
      "outputs": []
    },
    {
      "cell_type": "markdown",
      "metadata": {
        "id": "wFMicqvw909R"
      },
      "source": [
        "# Logical"
      ]
    },
    {
      "cell_type": "code",
      "metadata": {
        "id": "6yHnUQub924F"
      },
      "source": [
        "size_1 == true_size"
      ],
      "execution_count": null,
      "outputs": []
    },
    {
      "cell_type": "code",
      "metadata": {
        "id": "qeMwKVHX98T2"
      },
      "source": [
        "size_1 is true_size"
      ],
      "execution_count": null,
      "outputs": []
    },
    {
      "cell_type": "code",
      "metadata": {
        "id": "NQhfPbrk-EX3"
      },
      "source": [
        "size_1 is not true_size"
      ],
      "execution_count": null,
      "outputs": []
    },
    {
      "cell_type": "code",
      "metadata": {
        "id": "Jda4mJZD-Hy6"
      },
      "source": [
        "P, Q = True, True\n",
        "conj = P and Q"
      ],
      "execution_count": null,
      "outputs": []
    },
    {
      "cell_type": "code",
      "metadata": {
        "id": "0jmJ79qM-lb_"
      },
      "source": [
        "disj = P or Q"
      ],
      "execution_count": null,
      "outputs": []
    },
    {
      "cell_type": "code",
      "metadata": {
        "id": "afjQX8Qm-vBj"
      },
      "source": [
        "nand = not (P and Q)"
      ],
      "execution_count": null,
      "outputs": []
    },
    {
      "cell_type": "code",
      "metadata": {
        "id": "THZmebkE_mAf"
      },
      "source": [
        "xor = (not P and Q) or (P and not Q)"
      ],
      "execution_count": null,
      "outputs": []
    },
    {
      "cell_type": "markdown",
      "metadata": {
        "id": "vbkI-FmmB48p"
      },
      "source": [
        "# Input and Output"
      ]
    },
    {
      "cell_type": "code",
      "metadata": {
        "id": "9vbqW7zOCIVb"
      },
      "source": [
        "print(\"Hello World!\")"
      ],
      "execution_count": null,
      "outputs": []
    },
    {
      "cell_type": "code",
      "metadata": {
        "id": "GjRUL1xGCZrQ"
      },
      "source": [
        "cnt = 14000"
      ],
      "execution_count": null,
      "outputs": []
    },
    {
      "cell_type": "code",
      "metadata": {
        "id": "E02E30WDCcML"
      },
      "source": [
        "string = \"Hello World!\"\n",
        "print (string, \", Current COVID count is\", cnt)\n",
        "cnt += 10000"
      ],
      "execution_count": null,
      "outputs": []
    },
    {
      "cell_type": "code",
      "metadata": {
        "id": "eXSebvV9Fan5"
      },
      "source": [
        "print (f\"{string}, current count is:\", cnt)"
      ],
      "execution_count": null,
      "outputs": []
    },
    {
      "cell_type": "code",
      "metadata": {
        "id": "yJYLvPr1Gv00"
      },
      "source": [
        "sem_grade = 86.25\n",
        "name = \"\"\n",
        "print (\"Hello {}, your semestral grade is: {}\".format (name, sem_grade))"
      ],
      "execution_count": null,
      "outputs": []
    },
    {
      "cell_type": "code",
      "metadata": {
        "id": "UPjZl-TnFvsg"
      },
      "source": [
        "pg, mg, fg = 98, 85, 65\n",
        "print(\"The weights of your semestral grades are:\\\n",
        "\\n\\t {:.2%} for Prelims\\\n",
        "\\n\\t {:.2%} for Midterms, and\\\n",
        "\\n\\t {:.2%} for Finals.\".format(pg, mg, fg))"
      ],
      "execution_count": null,
      "outputs": []
    },
    {
      "cell_type": "code",
      "metadata": {
        "id": "qcfztqhvQUgt"
      },
      "source": [
        "e = input(\"Enter a number:\")"
      ],
      "execution_count": null,
      "outputs": []
    },
    {
      "cell_type": "code",
      "metadata": {
        "id": "hctl-ewmRiKK"
      },
      "source": [
        "name = input(\"Enter your name: \")\n",
        "pg = input(\"Enter prelim grade: \")\n",
        "mg = input(\"Enter midterm grade: \")\n",
        "fg = input(\"Enter final grade: \")\n",
        "sem_grade = None\n",
        "print (\"Hello {}, your semestral grade is: {}\".format(name, sem_grade))"
      ],
      "execution_count": null,
      "outputs": []
    },
    {
      "cell_type": "markdown",
      "metadata": {
        "id": "8NjJb1eHSyu3"
      },
      "source": [
        "## Looping Statements"
      ]
    },
    {
      "cell_type": "markdown",
      "metadata": {
        "id": "pHO9qRjWS-FN"
      },
      "source": [
        "## While"
      ]
    },
    {
      "cell_type": "code",
      "metadata": {
        "id": "0imDOw0OTAKw"
      },
      "source": [
        "## while loops\n",
        "i, j = 0, 10\n",
        "while(i<=j):\n",
        "    print(f\"{i}\\t|\\t{j}\")\n",
        "    i += 1"
      ],
      "execution_count": null,
      "outputs": []
    },
    {
      "cell_type": "code",
      "metadata": {
        "id": "93mSUlwRTqZI"
      },
      "source": [
        "# for(int = 0; i=10; i++){\n",
        "# printf(i)\n",
        "# }\n",
        "\n",
        "i = 0\n",
        "for i in range(10):\n",
        "  print(i)"
      ],
      "execution_count": null,
      "outputs": []
    },
    {
      "cell_type": "code",
      "metadata": {
        "id": "bGR6XEOzYHWI"
      },
      "source": [
        "playlist = [\"Bahay Kubo\", \"Magandang Kanta\", \"Buko\"]\n",
        "print('Now Playing:\\n')\n",
        "for song in playlist: \n",
        "    print(song)"
      ],
      "execution_count": null,
      "outputs": []
    },
    {
      "cell_type": "markdown",
      "metadata": {
        "id": "Va7x3HvwYqLY"
      },
      "source": [
        "## Flow Control"
      ]
    },
    {
      "cell_type": "markdown",
      "metadata": {
        "id": "Quq-wOKsYxcU"
      },
      "source": [
        "### Condition Statements"
      ]
    },
    {
      "cell_type": "code",
      "metadata": {
        "id": "hc25MWM8Y0_L"
      },
      "source": [
        "num_1, num_2 = 14, 12\n",
        "if(num_1 == num_2):\n",
        "    print(\"HAHA\")\n",
        "elif(num_1>num_2):\n",
        "    print(\"HOHO\")\n",
        "else:\n",
        "    print(\"HUHU\")"
      ],
      "execution_count": null,
      "outputs": []
    },
    {
      "cell_type": "markdown",
      "metadata": {
        "id": "giyPUsUoZpqr"
      },
      "source": [
        "## Functions"
      ]
    },
    {
      "cell_type": "code",
      "metadata": {
        "id": "0WvYmB80Ztne"
      },
      "source": [
        "# void DeleteUser (int userid){\n",
        "#   delete(userid);\n",
        "#}\n",
        "\n",
        "def delete_user (userid):\n",
        "    print(\"Successfully deleted user: {}\".format(userid))"
      ],
      "execution_count": null,
      "outputs": []
    },
    {
      "cell_type": "code",
      "metadata": {
        "id": "zM3DVXMsaTcF"
      },
      "source": [
        "userid = 2020-100100\n",
        "delete_user(2020-100100)"
      ],
      "execution_count": null,
      "outputs": []
    },
    {
      "cell_type": "code",
      "metadata": {
        "id": "nziTyVUqc5UG"
      },
      "source": [
        "addend1, addend2 = 5, 6"
      ],
      "execution_count": null,
      "outputs": []
    },
    {
      "cell_type": "code",
      "metadata": {
        "id": "U8HeaTnVcwu-"
      },
      "source": [
        "def add(addend1, addend2):\n",
        "  sum = addend1 + addend2\n",
        "  return sum"
      ],
      "execution_count": null,
      "outputs": []
    },
    {
      "cell_type": "code",
      "metadata": {
        "colab": {
          "base_uri": "https://localhost:8080/"
        },
        "id": "0qKGbYb-dLsV",
        "outputId": "d333aabc-ba7d-4edb-beb1-1be3f5816a86"
      },
      "source": [
        "add(5, 4)"
      ],
      "execution_count": null,
      "outputs": [
        {
          "output_type": "execute_result",
          "data": {
            "text/plain": [
              "9"
            ]
          },
          "metadata": {},
          "execution_count": 110
        }
      ]
    }
  ]
}